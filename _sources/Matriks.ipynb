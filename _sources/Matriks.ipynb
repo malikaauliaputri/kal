{
  "nbformat": 4,
  "nbformat_minor": 0,
  "metadata": {
    "colab": {
      "provenance": []
    },
    "kernelspec": {
      "name": "python3",
      "display_name": "Python 3"
    },
    "language_info": {
      "name": "python"
    }
  },
  "cells": [
    {
      "cell_type": "markdown",
      "source": [
        "# **Matriks**\n",
        "\n",
        "Matriks adalah susunan bilangan, simbol, atau ekspresi yang diatur dalam baris dan kolom sehingga membentuk jajaran persegi panjang. Bilangan-bilangan yang terdapat di suatu matriks disebut elemen atau anggota matriks.\n",
        "\n",
        "**Ciri-ciri Matriks**\n",
        "\n",
        "*   Matriks diberi nama dengan menggunakan huruf kapital seperti A, B, C, dan seterusnya.\n",
        "*   Anggotanya dinyatakan dengan huruf kecil.\n",
        "*   Susunan bilangan-bilangan yang mendatar (horizontal) disebut baris.\n",
        "*   Susunan bilangan-bilangan yang tegak (vertikal) disebut kolom.\n",
        "*   Ordo matriks adalah banyaknya elemen baris dan banyaknya elemen kolom dari suatu matriks.\n",
        "*   Matriks yang memiliki m sebagai baris dan n sebagai kolom dapat disebut sebagai matriks m x n.\n",
        "\n",
        "# **Operasi Aritmatika Matriks**\n",
        "\n",
        "### Penjumlahan Matriks\n",
        "\n",
        "Operasi matriks yang pertama kita bahas adalah penjumlahan matriks. Operasi matriks adalah penjumlahan 2 matriks yang letak komponennya sama. Sebenarnya, operasi matriks tidak jauh beda dengan operasi penjumlahan pada umumnya, tapi ada syarat matriks bisa dijumlahkan.\n",
        "\n",
        "Apa sih syarat matriks bisa dijumlahkan? Syarat matriks agar bisa dijumlahkan adalah dua matriks harus memiliki ordo yang sama.\n",
        "\n",
        "#### Konsep Penjumlahan Matriks\n",
        "\n",
        "Code dibawah ini merupakan contoh Penjumlahan Matriks\n",
        "\n"
      ],
      "metadata": {
        "id": "EZJohaRktS5g"
      }
    },
    {
      "cell_type": "code",
      "source": [
        "import sympy as sy\n",
        "\n",
        "# Definisi matriks dengan SymPy\n",
        "a_sy = sy.Matrix([[2, 4, 5], [1, 8, 7], [3, 0, 6]])\n",
        "b_sy = sy.Matrix([[-3, 4, 8], [2, -4, 6], [5, 7, 0]])\n",
        "\n",
        "# Penjumlahan matriks dengan SymPy\n",
        "sum_sympy = a_sy + b_sy\n",
        "\n",
        "print(\"Penjumlahan Matriks:\")\n",
        "\n",
        "def display_side_by_side(m1, m2, result):\n",
        "    rows = len(m1.tolist())\n",
        "    for i in range(rows):\n",
        "        print(m1.row(i), \" + \", m2.row(i), \" = \", result.row(i))\n",
        "\n",
        "display_side_by_side(a_sy, b_sy, sum_sympy)"
      ],
      "metadata": {
        "colab": {
          "base_uri": "https://localhost:8080/"
        },
        "id": "hCbLrJQawjMJ",
        "outputId": "a7b2e3e9-ba8b-4ca5-ae7e-a36ceeeab88b"
      },
      "execution_count": 1,
      "outputs": [
        {
          "output_type": "stream",
          "name": "stdout",
          "text": [
            "Penjumlahan Matriks:\n",
            "Matrix([[2, 4, 5]])  +  Matrix([[-3, 4, 8]])  =  Matrix([[-1, 8, 13]])\n",
            "Matrix([[1, 8, 7]])  +  Matrix([[2, -4, 6]])  =  Matrix([[3, 4, 13]])\n",
            "Matrix([[3, 0, 6]])  +  Matrix([[5, 7, 0]])  =  Matrix([[8, 7, 6]])\n"
          ]
        }
      ]
    },
    {
      "cell_type": "markdown",
      "source": [
        "### Pengurangan Matriks\n",
        "Sebenarnya, cara pengerjaan penjumlahan dan pengurangan matriks itu konsepnya sama saja, kok. Kamu tinggal mengurangkan masing-masing baris sesuai dengan urutannya.\n",
        "\n",
        "Syarat pengurangan matriks pun sama dengan penjumlahan, yaitu kedua matriks harus memiliki ordo yang sama sehingga bisa dioperasikan.\n",
        "\n",
        "#### Konsep Pengurangan Matriks\n",
        "\n",
        "Code dibawah ini merupakan contoh Pengurangan Matriks\n"
      ],
      "metadata": {
        "id": "amOL5ytvw3Ys"
      }
    },
    {
      "cell_type": "code",
      "source": [
        "import sympy as sy\n",
        "\n",
        "# Definisi matriks dengan SymPy\n",
        "a_sy = sy.Matrix([[2, 4, 5], [1, 8, 7], [3, 0, 6]])\n",
        "b_sy = sy.Matrix([[-3, 4, 8], [2, -4, 6], [5, 7, 0]])\n",
        "\n",
        "# Pengurangan matriks dengan SymPy\n",
        "diff_sympy = a_sy - b_sy\n",
        "\n",
        "print(\"Pengurangan Matriks:\")\n",
        "\n",
        "def display_side_by_side(m1, m2, result):\n",
        "    rows = len(m1.tolist())\n",
        "    for i in range(rows):\n",
        "        print(m1.row(i), \" - \", m2.row(i), \" = \", result.row(i))\n",
        "\n",
        "display_side_by_side(a_sy, b_sy, diff_sympy)"
      ],
      "metadata": {
        "colab": {
          "base_uri": "https://localhost:8080/"
        },
        "id": "8-VWXB9Oxruc",
        "outputId": "1cd79986-22ea-4504-ad0b-3ce387310498"
      },
      "execution_count": 2,
      "outputs": [
        {
          "output_type": "stream",
          "name": "stdout",
          "text": [
            "Pengurangan Matriks:\n",
            "Matrix([[2, 4, 5]])  -  Matrix([[-3, 4, 8]])  =  Matrix([[5, 0, -3]])\n",
            "Matrix([[1, 8, 7]])  -  Matrix([[2, -4, 6]])  =  Matrix([[-1, 12, 1]])\n",
            "Matrix([[3, 0, 6]])  -  Matrix([[5, 7, 0]])  =  Matrix([[-2, -7, 6]])\n"
          ]
        }
      ]
    },
    {
      "cell_type": "markdown",
      "source": [
        "### Perkalian Matriks\n",
        "\n",
        "Perkalian matriks adalah nilai pada matriks yang bisa dihasilkan dengan cara dikalikan-nya tiap baris dengan setiap kolom yang memiliki jumlah baris yang sama. Setiap anggota matriks ini nantinya akan dikalikan dengan anggota elemen matriks lainnya.\n",
        "\n",
        "Operasi Perkalian Matriks memiliki 2 macam yaitu ;\n",
        "*   Perkalian Skalar dengan Matriks\n",
        "*   Perkalian Matriks dengan Matriks (Dot Product)\n",
        "\n",
        "Sifat-sifat perkalian matriks adalah:\n",
        "* Tidak komutatif (AB ≠ BA)\n",
        "* Asosiatif (AB)C = A(BC)\n",
        "* Distributif (A(B + C) = AB + AC)\n",
        "* Perkalian dengan matriks identitas (AI = IA = A)\n",
        "* Perkalian dengan matriks nol (A0 = 0A = A)\n",
        "\n",
        "### **Perkalian Matriks dengan Matriks**\n",
        "\n",
        "Perkalian dua matriks hanya dapat dilakukan jika jumlah kolom matriks pertama sama dengan jumlah baris matriks kedua.\n",
        "\n",
        "#### Konsep Perkalian Matriks dengan Matriks\n",
        "\n",
        "Code dibawah ini merupakan contoh perkalian matriks dengan matriks\n",
        "\n"
      ],
      "metadata": {
        "id": "oXrCVtwGx0ll"
      }
    },
    {
      "cell_type": "code",
      "source": [
        "import sympy as sy\n",
        "\n",
        "# Definisi matriks dengan SymPy\n",
        "a_sy = sy.Matrix([[2, 4, 5], [1, 8, 7], [3, 0, 6]])\n",
        "b_sy = sy.Matrix([[-3, 4, 8], [2, -4, 6], [5, 7, 0]])\n",
        "\n",
        "# Perkalian matriks dengan SymPy\n",
        "prod_sympy = a_sy * b_sy\n",
        "\n",
        "print(\"Perkalian Matriks dengan Matriks:\")\n",
        "\n",
        "def display_side_by_side(m1, m2, result):\n",
        "    rows = len(m1.tolist())\n",
        "    for i in range(rows):\n",
        "        print(m1.row(i), \" * \", m2, \" = \", result.row(i))\n",
        "\n",
        "display_side_by_side(a_sy, b_sy, prod_sympy)"
      ],
      "metadata": {
        "colab": {
          "base_uri": "https://localhost:8080/"
        },
        "id": "_JJE6D5e2aFB",
        "outputId": "25a4a524-98a8-4e08-a5f9-9d46e231792d"
      },
      "execution_count": 3,
      "outputs": [
        {
          "output_type": "stream",
          "name": "stdout",
          "text": [
            "Perkalian Matriks dengan Matriks:\n",
            "Matrix([[2, 4, 5]])  *  Matrix([[-3, 4, 8], [2, -4, 6], [5, 7, 0]])  =  Matrix([[27, 27, 40]])\n",
            "Matrix([[1, 8, 7]])  *  Matrix([[-3, 4, 8], [2, -4, 6], [5, 7, 0]])  =  Matrix([[48, 21, 56]])\n",
            "Matrix([[3, 0, 6]])  *  Matrix([[-3, 4, 8], [2, -4, 6], [5, 7, 0]])  =  Matrix([[21, 54, 24]])\n"
          ]
        }
      ]
    },
    {
      "cell_type": "markdown",
      "source": [
        "### **Perkalian Matriks dengan Skalar**\n",
        "Perkalian matriks dengan skalar berarti setiap elemen dalam matriks dikalikan dengan satu bilangan skalar tertentu.\n",
        "\n",
        "#### Konsep Perkalian Matriks dengan Skalar\n",
        "Code dibawah ini merupakan contoh perkalian matriks dengan skalar"
      ],
      "metadata": {
        "id": "KDRLYP8n3MGM"
      }
    },
    {
      "cell_type": "code",
      "source": [
        "import sympy as sy\n",
        "\n",
        "# Definisi matriks dengan SymPy\n",
        "a_sy = sy.Matrix([[2, 4, 5], [1, 8, 7], [3, 0, 6]])\n",
        "\n",
        "# Definisi skalar\n",
        "scalar = 3\n",
        "\n",
        "# Perkalian matriks dengan skalar\n",
        "prod_sympy = scalar * a_sy\n",
        "\n",
        "print(\"Perkalian Matriks dengan Skalar:\")\n",
        "\n",
        "def display_scalar_multiplication(scalar, matrix, result):\n",
        "    rows = len(matrix.tolist())\n",
        "    for i in range(rows):\n",
        "        print(f\"{scalar} * {matrix.row(i)} = {result.row(i)}\")\n",
        "\n",
        "display_scalar_multiplication(scalar, a_sy, prod_sympy)"
      ],
      "metadata": {
        "colab": {
          "base_uri": "https://localhost:8080/"
        },
        "id": "eB-dZY0Z5WMa",
        "outputId": "c15e18de-406b-4226-a313-4f2ad479c2af"
      },
      "execution_count": 4,
      "outputs": [
        {
          "output_type": "stream",
          "name": "stdout",
          "text": [
            "Perkalian Matriks dengan Skalar:\n",
            "3 * Matrix([[2, 4, 5]]) = Matrix([[6, 12, 15]])\n",
            "3 * Matrix([[1, 8, 7]]) = Matrix([[3, 24, 21]])\n",
            "3 * Matrix([[3, 0, 6]]) = Matrix([[9, 0, 18]])\n"
          ]
        }
      ]
    }
  ]
}