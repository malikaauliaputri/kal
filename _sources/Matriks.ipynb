{
  "cells": [
    {
      "cell_type": "markdown",
      "metadata": {
        "id": "EZJohaRktS5g"
      },
      "source": [
        "# **Matriks**\n",
        "\n",
        "Matriks adalah susunan bilangan, simbol, atau ekspresi yang diatur dalam baris dan kolom sehingga membentuk jajaran persegi panjang. Bilangan-bilangan yang terdapat di suatu matriks disebut elemen atau anggota matriks.\n",
        "\n",
        "**Ciri-ciri Matriks**\n",
        "\n",
        "*   Matriks diberi nama dengan menggunakan huruf kapital seperti A, B, C, dan seterusnya.\n",
        "*   Anggotanya dinyatakan dengan huruf kecil.\n",
        "*   Susunan bilangan-bilangan yang mendatar (horizontal) disebut baris.\n",
        "*   Susunan bilangan-bilangan yang tegak (vertikal) disebut kolom.\n",
        "*   Ordo matriks adalah banyaknya elemen baris dan banyaknya elemen kolom dari suatu matriks.\n",
        "*   Matriks yang memiliki m sebagai baris dan n sebagai kolom dapat disebut sebagai matriks m x n.\n",
        "\n",
        "## **Operasi Aritmatika Matriks**\n",
        "\n",
        "### Penjumlahan Matriks\n",
        "\n",
        "Operasi matriks yang pertama kita bahas adalah penjumlahan matriks. Operasi matriks adalah penjumlahan 2 matriks yang letak komponennya sama. Sebenarnya, operasi matriks tidak jauh beda dengan operasi penjumlahan pada umumnya, tapi ada syarat matriks bisa dijumlahkan.\n",
        "\n",
        "Apa sih syarat matriks bisa dijumlahkan? Syarat matriks agar bisa dijumlahkan adalah dua matriks harus memiliki ordo yang sama.\n",
        "\n",
        "#### Konsep Penjumlahan Matriks\n",
        "\n",
        "Code dibawah ini merupakan contoh Penjumlahan Matriks\n",
        "\n"
      ]
    },
    {
      "cell_type": "code",
      "execution_count": 1,
      "metadata": {
        "colab": {
          "base_uri": "https://localhost:8080/"
        },
        "id": "hCbLrJQawjMJ",
        "outputId": "a7b2e3e9-ba8b-4ca5-ae7e-a36ceeeab88b"
      },
      "outputs": [
        {
          "name": "stdout",
          "output_type": "stream",
          "text": [
            "Penjumlahan Matriks:\n",
            "Matrix([[2, 4, 5]])  +  Matrix([[-3, 4, 8]])  =  Matrix([[-1, 8, 13]])\n",
            "Matrix([[1, 8, 7]])  +  Matrix([[2, -4, 6]])  =  Matrix([[3, 4, 13]])\n",
            "Matrix([[3, 0, 6]])  +  Matrix([[5, 7, 0]])  =  Matrix([[8, 7, 6]])\n"
          ]
        }
      ],
      "source": [
        "import sympy as sy\n",
        "\n",
        "# Definisi matriks dengan SymPy\n",
        "a_sy = sy.Matrix([[2, 4, 5], [1, 8, 7], [3, 0, 6]])\n",
        "b_sy = sy.Matrix([[-3, 4, 8], [2, -4, 6], [5, 7, 0]])\n",
        "\n",
        "# Penjumlahan matriks dengan SymPy\n",
        "sum_sympy = a_sy + b_sy\n",
        "\n",
        "print(\"Penjumlahan Matriks:\")\n",
        "\n",
        "def display_side_by_side(m1, m2, result):\n",
        "    rows = len(m1.tolist())\n",
        "    for i in range(rows):\n",
        "        print(m1.row(i), \" + \", m2.row(i), \" = \", result.row(i))\n",
        "\n",
        "display_side_by_side(a_sy, b_sy, sum_sympy)"
      ]
    },
    {
      "cell_type": "markdown",
      "metadata": {
        "id": "amOL5ytvw3Ys"
      },
      "source": [
        "### Pengurangan Matriks\n",
        "Sebenarnya, cara pengerjaan penjumlahan dan pengurangan matriks itu konsepnya sama saja, kok. Kamu tinggal mengurangkan masing-masing baris sesuai dengan urutannya.\n",
        "\n",
        "Syarat pengurangan matriks pun sama dengan penjumlahan, yaitu kedua matriks harus memiliki ordo yang sama sehingga bisa dioperasikan.\n",
        "\n",
        "#### Konsep Pengurangan Matriks\n",
        "\n",
        "Code dibawah ini merupakan contoh Pengurangan Matriks\n"
      ]
    },
    {
      "cell_type": "code",
      "execution_count": 2,
      "metadata": {
        "colab": {
          "base_uri": "https://localhost:8080/"
        },
        "id": "8-VWXB9Oxruc",
        "outputId": "1cd79986-22ea-4504-ad0b-3ce387310498"
      },
      "outputs": [
        {
          "name": "stdout",
          "output_type": "stream",
          "text": [
            "Pengurangan Matriks:\n",
            "Matrix([[2, 4, 5]])  -  Matrix([[-3, 4, 8]])  =  Matrix([[5, 0, -3]])\n",
            "Matrix([[1, 8, 7]])  -  Matrix([[2, -4, 6]])  =  Matrix([[-1, 12, 1]])\n",
            "Matrix([[3, 0, 6]])  -  Matrix([[5, 7, 0]])  =  Matrix([[-2, -7, 6]])\n"
          ]
        }
      ],
      "source": [
        "import sympy as sy\n",
        "\n",
        "# Definisi matriks dengan SymPy\n",
        "a_sy = sy.Matrix([[2, 4, 5], [1, 8, 7], [3, 0, 6]])\n",
        "b_sy = sy.Matrix([[-3, 4, 8], [2, -4, 6], [5, 7, 0]])\n",
        "\n",
        "# Pengurangan matriks dengan SymPy\n",
        "diff_sympy = a_sy - b_sy\n",
        "\n",
        "print(\"Pengurangan Matriks:\")\n",
        "\n",
        "def display_side_by_side(m1, m2, result):\n",
        "    rows = len(m1.tolist())\n",
        "    for i in range(rows):\n",
        "        print(m1.row(i), \" - \", m2.row(i), \" = \", result.row(i))\n",
        "\n",
        "display_side_by_side(a_sy, b_sy, diff_sympy)"
      ]
    },
    {
      "cell_type": "markdown",
      "metadata": {
        "id": "oXrCVtwGx0ll"
      },
      "source": [
        "### Perkalian Matriks\n",
        "\n",
        "Perkalian matriks adalah nilai pada matriks yang bisa dihasilkan dengan cara dikalikan-nya tiap baris dengan setiap kolom yang memiliki jumlah baris yang sama. Setiap anggota matriks ini nantinya akan dikalikan dengan anggota elemen matriks lainnya.\n",
        "\n",
        "Operasi Perkalian Matriks memiliki 2 macam yaitu ;\n",
        "*   Perkalian Skalar dengan Matriks\n",
        "*   Perkalian Matriks dengan Matriks (Dot Product)\n",
        "\n",
        "Sifat-sifat perkalian matriks adalah:\n",
        "* Tidak komutatif (AB ≠ BA)\n",
        "* Asosiatif (AB)C = A(BC)\n",
        "* Distributif (A(B + C) = AB + AC)\n",
        "* Perkalian dengan matriks identitas (AI = IA = A)\n",
        "* Perkalian dengan matriks nol (A0 = 0A = A)\n",
        "\n",
        "### **Perkalian Matriks dengan Matriks**\n",
        "\n",
        "Perkalian dua matriks hanya dapat dilakukan jika jumlah kolom matriks pertama sama dengan jumlah baris matriks kedua.\n",
        "\n",
        "#### Konsep Perkalian Matriks dengan Matriks\n",
        "\n",
        "Code dibawah ini merupakan contoh perkalian matriks dengan matriks\n",
        "\n"
      ]
    },
    {
      "cell_type": "code",
      "execution_count": 3,
      "metadata": {
        "colab": {
          "base_uri": "https://localhost:8080/"
        },
        "id": "_JJE6D5e2aFB",
        "outputId": "25a4a524-98a8-4e08-a5f9-9d46e231792d"
      },
      "outputs": [
        {
          "name": "stdout",
          "output_type": "stream",
          "text": [
            "Perkalian Matriks dengan Matriks:\n",
            "Matrix([[2, 4, 5]])  *  Matrix([[-3, 4, 8], [2, -4, 6], [5, 7, 0]])  =  Matrix([[27, 27, 40]])\n",
            "Matrix([[1, 8, 7]])  *  Matrix([[-3, 4, 8], [2, -4, 6], [5, 7, 0]])  =  Matrix([[48, 21, 56]])\n",
            "Matrix([[3, 0, 6]])  *  Matrix([[-3, 4, 8], [2, -4, 6], [5, 7, 0]])  =  Matrix([[21, 54, 24]])\n"
          ]
        }
      ],
      "source": [
        "import sympy as sy\n",
        "\n",
        "# Definisi matriks dengan SymPy\n",
        "a_sy = sy.Matrix([[2, 4, 5], [1, 8, 7], [3, 0, 6]])\n",
        "b_sy = sy.Matrix([[-3, 4, 8], [2, -4, 6], [5, 7, 0]])\n",
        "\n",
        "# Perkalian matriks dengan SymPy\n",
        "prod_sympy = a_sy * b_sy\n",
        "\n",
        "print(\"Perkalian Matriks dengan Matriks:\")\n",
        "\n",
        "def display_side_by_side(m1, m2, result):\n",
        "    rows = len(m1.tolist())\n",
        "    for i in range(rows):\n",
        "        print(m1.row(i), \" * \", m2, \" = \", result.row(i))\n",
        "\n",
        "display_side_by_side(a_sy, b_sy, prod_sympy)"
      ]
    },
    {
      "cell_type": "markdown",
      "metadata": {
        "id": "KDRLYP8n3MGM"
      },
      "source": [
        "### **Perkalian Matriks dengan Skalar**\n",
        "Perkalian matriks dengan skalar berarti setiap elemen dalam matriks dikalikan dengan satu bilangan skalar tertentu.\n",
        "\n",
        "#### Konsep Perkalian Matriks dengan Skalar\n",
        "Code dibawah ini merupakan contoh perkalian matriks dengan skalar"
      ]
    },
    {
      "cell_type": "code",
      "execution_count": 4,
      "metadata": {
        "colab": {
          "base_uri": "https://localhost:8080/"
        },
        "id": "eB-dZY0Z5WMa",
        "outputId": "c15e18de-406b-4226-a313-4f2ad479c2af"
      },
      "outputs": [
        {
          "name": "stdout",
          "output_type": "stream",
          "text": [
            "Perkalian Matriks dengan Skalar:\n",
            "3 * Matrix([[2, 4, 5]]) = Matrix([[6, 12, 15]])\n",
            "3 * Matrix([[1, 8, 7]]) = Matrix([[3, 24, 21]])\n",
            "3 * Matrix([[3, 0, 6]]) = Matrix([[9, 0, 18]])\n"
          ]
        }
      ],
      "source": [
        "import sympy as sy\n",
        "\n",
        "# Definisi matriks dengan SymPy\n",
        "a_sy = sy.Matrix([[2, 4, 5], [1, 8, 7], [3, 0, 6]])\n",
        "\n",
        "# Definisi skalar\n",
        "scalar = 3\n",
        "\n",
        "# Perkalian matriks dengan skalar\n",
        "prod_sympy = scalar * a_sy\n",
        "\n",
        "print(\"Perkalian Matriks dengan Skalar:\")\n",
        "\n",
        "def display_scalar_multiplication(scalar, matrix, result):\n",
        "    rows = len(matrix.tolist())\n",
        "    for i in range(rows):\n",
        "        print(f\"{scalar} * {matrix.row(i)} = {result.row(i)}\")\n",
        "\n",
        "display_scalar_multiplication(scalar, a_sy, prod_sympy)"
      ]
    },
    {
      "cell_type": "markdown",
      "metadata": {},
      "source": [
        "### Penyelesaian persamaan menggunakan invers matrik\n",
        "\n",
        "Kita diberikan sistem persamaan linear:\n",
        "\n",
        "$\n",
        "\\begin{aligned}\n",
        "    -7x_1 - 6x_2 - 12x_3 &= -33 \\\\\n",
        "    5x_1 + 5x_2 + 7x_3 &= 24 \\\\\n",
        "    x_1 + 4x_3 &= 5\n",
        "\\end{aligned}\n",
        "$\n",
        "\n",
        "#### **1. Bentuk Matriks**\n",
        "Sistem persamaan di atas dapat dituliskan dalam bentuk matriks:\n",
        "\n",
        "$\n",
        "A \\mathbf{x} = \\mathbf{b}\n",
        "$\n",
        "\n",
        "dengan:\n",
        "\n",
        "$\n",
        "A =\n",
        "\\begin{bmatrix}\n",
        "-7 & -6 & -12 \\\\\n",
        "5 & 5 & 7 \\\\\n",
        "1 & 0 & 4\n",
        "\\end{bmatrix},\n",
        "\\quad\n",
        "\\mathbf{x} =\n",
        "\\begin{bmatrix}\n",
        "x_1 \\\\ x_2 \\\\ x_3\n",
        "\\end{bmatrix},\n",
        "\\quad\n",
        "\\mathbf{b} =\n",
        "\\begin{bmatrix}\n",
        "-33 \\\\ 24 \\\\ 5\n",
        "\\end{bmatrix}\n",
        "$\n",
        "\n",
        "Penyelesaian sistem menggunakan invers matriks diberikan oleh:\n",
        "\n",
        "$\n",
        "\\mathbf{x} = A^{-1} \\mathbf{b}\n",
        "$\n",
        "\n",
        "Kita akan mencari $ A^{-1} $ menggunakan operasi baris elementer.\n",
        "\n",
        "---\n",
        "\n",
        "#### **2. Menentukan $ A^{-1} $ Menggunakan Operasi Baris Elementer**\n",
        "Kita mulai dengan matriks augmented:\n",
        "\n",
        "$\n",
        "\\left[ A \\,|\\, I \\right] =\n",
        "\\left[\n",
        "\\begin{array}{ccc|ccc}\n",
        "-7 & -6 & -12 & 1 & 0 & 0 \\\\\n",
        "5 & 5 & 7 & 0 & 1 & 0 \\\\\n",
        "1 & 0 & 4 & 0 & 0 & 1\n",
        "\\end{array}\n",
        "\\right]\n",
        "$\n",
        "\n",
        "**Langkah 1: Ubah elemen (1,1) menjadi 1**\n",
        "Kita bagi baris pertama dengan $ -7 $:\n",
        "\n",
        "$\n",
        "\\left[\n",
        "\\begin{array}{ccc|ccc}\n",
        "1 & \\frac{6}{7} & \\frac{12}{7} & -\\frac{1}{7} & 0 & 0 \\\\\n",
        "5 & 5 & 7 & 0 & 1 & 0 \\\\\n",
        "1 & 0 & 4 & 0 & 0 & 1\n",
        "\\end{array}\n",
        "\\right]\n",
        "$\n",
        "\n",
        "**Langkah 2: Nulifikasi elemen (2,1) dan (3,1)**  \n",
        "Baris kedua: $ R_2 \\leftarrow R_2 - 5R_1 $  \n",
        "Baris ketiga: $ R_3 \\leftarrow R_3 - R_1 $\n",
        "\n",
        "$\n",
        "\\left[\n",
        "\\begin{array}{ccc|ccc}\n",
        "1 & \\frac{6}{7} & \\frac{12}{7} & -\\frac{1}{7} & 0 & 0 \\\\\n",
        "0 & \\frac{5}{7} & \\frac{1}{7} & \\frac{5}{7} & 1 & 0 \\\\\n",
        "0 & -\\frac{6}{7} & \\frac{16}{7} & \\frac{1}{7} & 0 & 1\n",
        "\\end{array}\n",
        "\\right]\n",
        "$\n",
        "\n",
        "**Langkah 3: Ubah elemen (2,2) menjadi 1**  \n",
        "Kita kalikan baris kedua dengan $ \\frac{7}{5} $:\n",
        "\n",
        "$\n",
        "\\left[\n",
        "\\begin{array}{ccc|ccc}\n",
        "1 & \\frac{6}{7} & \\frac{12}{7} & -\\frac{1}{7} & 0 & 0 \\\\\n",
        "0 & 1 & \\frac{1}{5} & \\frac{1}{5} & \\frac{7}{5} & 0 \\\\\n",
        "0 & -\\frac{6}{7} & \\frac{16}{7} & \\frac{1}{7} & 0 & 1\n",
        "\\end{array}\n",
        "\\right]\n",
        "$\n",
        "\n",
        "**Langkah 4: Nulifikasi elemen (1,2) dan (3,2)**  \n",
        "Baris pertama: $ R_1 \\leftarrow R_1 - \\frac{6}{7} R_2 $  \n",
        "Baris ketiga: $ R_3 \\leftarrow R_3 + \\frac{6}{7} R_2 $\n",
        "\n",
        "$\n",
        "\\left[\n",
        "\\begin{array}{ccc|ccc}\n",
        "1 & 0 & \\frac{10}{7} & -\\frac{5}{21} & -\\frac{6}{5} & 0 \\\\\n",
        "0 & 1 & \\frac{1}{5} & \\frac{1}{5} & \\frac{7}{5} & 0 \\\\\n",
        "0 & 0 & \\frac{22}{7} & \\frac{11}{35} & \\frac{42}{35} & 1\n",
        "\\end{array}\n",
        "\\right]\n",
        "$\n",
        "\n",
        "**Langkah 5: Ubah elemen (3,3) menjadi 1**  \n",
        "Kita kalikan baris ketiga dengan $ \\frac{7}{22} $:\n",
        "\n",
        "$\n",
        "\\left[\n",
        "\\begin{array}{ccc|ccc}\n",
        "1 & 0 & \\frac{10}{7} & -\\frac{5}{21} & -\\frac{6}{5} & 0 \\\\\n",
        "0 & 1 & \\frac{1}{5} & \\frac{1}{5} & \\frac{7}{5} & 0 \\\\\n",
        "0 & 0 & 1 & \\frac{1}{10} & \\frac{21}{22} & \\frac{7}{22}\n",
        "\\end{array}\n",
        "\\right]\n",
        "$\n",
        "\n",
        "**Langkah 6: Nulifikasi elemen (1,3) dan (2,3)**  \n",
        "Baris pertama: $ R_1 \\leftarrow R_1 - \\frac{10}{7} R_3 $  \n",
        "Baris kedua: $ R_2 \\leftarrow R_2 - \\frac{1}{5} R_3 $\n",
        "\n",
        "$\n",
        "\\left[\n",
        "\\begin{array}{ccc|ccc}\n",
        "1 & 0 & 0 & -\\frac{8}{21} & -\\frac{9}{5} & -\\frac{10}{22} \\\\\n",
        "0 & 1 & 0 & \\frac{1}{5} - \\frac{1}{50} & \\frac{7}{5} - \\frac{21}{110} & -\\frac{7}{110} \\\\\n",
        "0 & 0 & 1 & \\frac{1}{10} & \\frac{21}{22} & \\frac{7}{22}\n",
        "\\end{array}\n",
        "\\right]\n",
        "$\n",
        "\n",
        "Setelah disederhanakan, kita dapatkan invers matriks $ A^{-1} $:\n",
        "\n",
        "$\n",
        "A^{-1} =\n",
        "\\begin{bmatrix}\n",
        "-\\frac{8}{21} & -\\frac{9}{5} & -\\frac{5}{11} \\\\\n",
        "\\frac{2}{7} & \\frac{37}{35} & -\\frac{7}{55} \\\\\n",
        "\\frac{1}{10} & \\frac{21}{22} & \\frac{7}{22}\n",
        "\\end{bmatrix}\n",
        "$\n",
        "\n",
        "---\n",
        "\n",
        "#### **3. Menghitung $ \\mathbf{x} = A^{-1} \\mathbf{b} $**\n",
        "\n",
        "$\n",
        "\\mathbf{x} =\n",
        "\\begin{bmatrix}\n",
        "-\\frac{8}{21} & -\\frac{9}{5} & -\\frac{5}{11} \\\\\n",
        "\\frac{2}{7} & \\frac{37}{35} & -\\frac{7}{55} \\\\\n",
        "\\frac{1}{10} & \\frac{21}{22} & \\frac{7}{22}\n",
        "\\end{bmatrix}\n",
        "\\begin{bmatrix}\n",
        "-33 \\\\ 24 \\\\ 5\n",
        "\\end{bmatrix}\n",
        "$\n",
        "\n",
        "Setelah dihitung, diperoleh:\n",
        "\n",
        "$\n",
        "\\mathbf{x} =\n",
        "\\begin{bmatrix}\n",
        "1 \\\\ 2 \\\\ 1\n",
        "\\end{bmatrix}\n",
        "$\n",
        "\n",
        "Jadi, solusi dari sistem persamaan adalah:\n",
        "\n",
        "$\n",
        "x_1 = 1, \\quad x_2 = 2, \\quad x_3 = 1\n",
        "$"
      ]
    }
  ],
  "metadata": {
    "colab": {
      "provenance": []
    },
    "kernelspec": {
      "display_name": "Python 3",
      "name": "python3"
    },
    "language_info": {
      "name": "python"
    }
  },
  "nbformat": 4,
  "nbformat_minor": 0
}
